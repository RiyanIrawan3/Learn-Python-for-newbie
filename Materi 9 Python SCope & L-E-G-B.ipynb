{
 "cells": [
  {
   "cell_type": "code",
   "execution_count": 1,
   "metadata": {},
   "outputs": [],
   "source": [
    "a = 1000 #global variabel\n",
    "\n",
    "def jumlah():\n",
    "    a = 90\n",
    "    return a # belajar ruang lingkup dari algoritma"
   ]
  },
  {
   "cell_type": "code",
   "execution_count": 2,
   "metadata": {},
   "outputs": [
    {
     "name": "stdout",
     "output_type": "stream",
     "text": [
      "1000\n"
     ]
    }
   ],
   "source": [
    "print(a)"
   ]
  },
  {
   "cell_type": "markdown",
   "metadata": {},
   "source": [
    "#### L-E-G-B\n",
    "#### adalah urutan dari eksekusi python\n",
    "#### L (local) variabel ini bersifat lokal, yang biasanya berada dalam fungsi Def/lambada\n",
    "#### E (Enclosing function local) variabel ini berada dalam fungsi def/lambada. dari mulai lingkup terdalam dan terluar\n",
    "#### G  (Global) variabel ini di definisikan diluar biasanya di tahap awal\n",
    "#### B (Built-in) variabel bawaan python seperti list, str, upper"
   ]
  },
  {
   "cell_type": "code",
   "execution_count": 3,
   "metadata": {},
   "outputs": [
    {
     "name": "stdout",
     "output_type": "stream",
     "text": [
      "90\n"
     ]
    }
   ],
   "source": [
    "print(jumlah())"
   ]
  },
  {
   "cell_type": "code",
   "execution_count": 4,
   "metadata": {},
   "outputs": [],
   "source": [
    "task = 'saya ingin bisa python' #fungsi global\n",
    "\n",
    "def cetak(): #cetak sampai eksekusi ini merupakan fungsi kalimat\n",
    "    task =  'saya ingin mahir dalam python' #fungsi local\n",
    "    \n",
    "    def eksekusi():\n",
    "        print('maka hasilnya adalah'+task) #ini merupakan enclosing\n",
    "        \n",
    "    eksekusi()"
   ]
  },
  {
   "cell_type": "code",
   "execution_count": 5,
   "metadata": {},
   "outputs": [
    {
     "name": "stdout",
     "output_type": "stream",
     "text": [
      "maka hasilnya adalahsaya ingin mahir dalam python\n"
     ]
    }
   ],
   "source": [
    "cetak() #maka yang di cari local dahulu"
   ]
  },
  {
   "cell_type": "code",
   "execution_count": 6,
   "metadata": {},
   "outputs": [],
   "source": [
    "task = 'saya ingin bisa python' #fungsi global\n",
    "\n",
    "def cetak(): #cetak sampai eksekusi ini merupakan fungsi kalimat\n",
    "    task =  'saya ingin mahir dalam python' #fungsi local\n",
    "    \n",
    "    def eksekusi():\n",
    "        task = 'saya ingin lihai dalam python'\n",
    "        print('maka hasilnya adalah'+task) #ini merupakan enclosing\n",
    "        \n",
    "    eksekusi()"
   ]
  },
  {
   "cell_type": "code",
   "execution_count": 7,
   "metadata": {},
   "outputs": [
    {
     "name": "stdout",
     "output_type": "stream",
     "text": [
      "maka hasilnya adalahsaya ingin lihai dalam python\n"
     ]
    }
   ],
   "source": [
    "cetak()"
   ]
  },
  {
   "cell_type": "code",
   "execution_count": 8,
   "metadata": {},
   "outputs": [],
   "source": [
    "angka = 999 #angka global\n",
    "\n",
    "def tulis(angka):\n",
    "    print(f'Angka = {angka}') #angka disini angka yang awal\n",
    "    #print (angka = {}'.format(angka))\n",
    "    \n",
    "    #mendefinisikan ulang sebuah variabel di fungsi\n",
    "    angka = 873 #angka lokal\n",
    "    print(f' Angka nya sekarang saya rubah menjadi {angka}')"
   ]
  },
  {
   "cell_type": "code",
   "execution_count": 9,
   "metadata": {},
   "outputs": [
    {
     "name": "stdout",
     "output_type": "stream",
     "text": [
      "Angka = 999\n",
      " Angka nya sekarang saya rubah menjadi 873\n"
     ]
    }
   ],
   "source": [
    "tulis(angka)"
   ]
  },
  {
   "cell_type": "code",
   "execution_count": 10,
   "metadata": {},
   "outputs": [],
   "source": [
    "angka = 999 #angka global dan angka global tidak akan di pengaruhi oleh fungsi yang bawah\n",
    "\n",
    "def tulis(angka):\n",
    "    print(f'Angka = {angka}') #angka disini angka yang awal\n",
    "    #print (angka = {}'.format(angka))\n",
    "    \n",
    "    #mendefinisikan ulang sebuah variabel di fungsi\n",
    "    angka = 873 #angka lokal\n",
    "    angka = 756\n",
    "    print(f' Angka nya sekarang saya rubah menjadi {angka}')\n",
    "    angka = 798"
   ]
  },
  {
   "cell_type": "code",
   "execution_count": 11,
   "metadata": {},
   "outputs": [
    {
     "data": {
      "text/plain": [
       "999"
      ]
     },
     "execution_count": 11,
     "metadata": {},
     "output_type": "execute_result"
    }
   ],
   "source": [
    "angka"
   ]
  },
  {
   "cell_type": "code",
   "execution_count": 12,
   "metadata": {},
   "outputs": [],
   "source": [
    "angka = 999 #angka global dan angka global tidak akan di pengaruhi oleh fungsi yang bawah\n",
    "\n",
    "def tulis(): #tutup kurung ini parameter\n",
    "    global angka #kita bisa meruah angka 999 itu menjadi 873 dengan kata global dan kurung tutup di kosongkan\n",
    "    #print(f'Angka = {angka}') #angka disini angka yang awal\n",
    "    #print (angka = {}'.format(angka))\n",
    "    \n",
    "    #mendefinisikan ulang sebuah variabel di fungsi\n",
    "    angka = 873 #angka lokal\n",
    "    #angka = 756\n",
    "    print(f' Angka nya sekarang saya rubah menjadi {angka}')\n",
    "    #angka = 798"
   ]
  },
  {
   "cell_type": "code",
   "execution_count": 13,
   "metadata": {},
   "outputs": [
    {
     "name": "stdout",
     "output_type": "stream",
     "text": [
      " Angka nya sekarang saya rubah menjadi 873\n"
     ]
    }
   ],
   "source": [
    "tulis() #ini cara kalo kita mengganti 99 ini menjadi 873 #merubah variabel global harus manual"
   ]
  },
  {
   "cell_type": "code",
   "execution_count": 14,
   "metadata": {},
   "outputs": [
    {
     "name": "stdout",
     "output_type": "stream",
     "text": [
      "873\n"
     ]
    }
   ],
   "source": [
    "print(angka)"
   ]
  },
  {
   "cell_type": "code",
   "execution_count": 15,
   "metadata": {},
   "outputs": [],
   "source": [
    "angka = 999 #angka global dan angka global tidak akan di pengaruhi oleh fungsi yang bawah\n",
    "\n",
    "def tulis(angka): #tutup kurung ini parameter\n",
    "    #global angka #kita bisa meruah angka 999 itu menjadi 873 dengan kata global dan kurung tutup di kosongkan\n",
    "    #print(f'Angka = {angka}') #angka disini angka yang awal\n",
    "    #print (angka = {}'.format(angka))\n",
    "    \n",
    "    #mendefinisikan ulang sebuah variabel di fungsi\n",
    "    angka = 873 #angka lokal\n",
    "    #angka = 756\n",
    "    print(f' Angka nya sekarang saya rubah menjadi {angka}')\n",
    "    return(angka)"
   ]
  },
  {
   "cell_type": "code",
   "execution_count": 16,
   "metadata": {},
   "outputs": [
    {
     "name": "stdout",
     "output_type": "stream",
     "text": [
      " Angka nya sekarang saya rubah menjadi 873\n"
     ]
    }
   ],
   "source": [
    "angka = tulis(angka) #ini lebih aman"
   ]
  },
  {
   "cell_type": "code",
   "execution_count": 17,
   "metadata": {},
   "outputs": [
    {
     "name": "stdout",
     "output_type": "stream",
     "text": [
      "873\n"
     ]
    }
   ],
   "source": [
    "print(angka)"
   ]
  },
  {
   "cell_type": "code",
   "execution_count": null,
   "metadata": {},
   "outputs": [],
   "source": []
  }
 ],
 "metadata": {
  "kernelspec": {
   "display_name": "Python 3",
   "language": "python",
   "name": "python3"
  },
  "language_info": {
   "codemirror_mode": {
    "name": "ipython",
    "version": 3
   },
   "file_extension": ".py",
   "mimetype": "text/x-python",
   "name": "python",
   "nbconvert_exporter": "python",
   "pygments_lexer": "ipython3",
   "version": "3.7.6"
  }
 },
 "nbformat": 4,
 "nbformat_minor": 4
}
