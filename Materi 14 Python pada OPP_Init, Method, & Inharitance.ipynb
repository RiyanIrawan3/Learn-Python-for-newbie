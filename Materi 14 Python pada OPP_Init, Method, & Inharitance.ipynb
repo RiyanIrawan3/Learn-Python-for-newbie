{
 "cells": [
  {
   "cell_type": "code",
   "execution_count": 1,
   "metadata": {},
   "outputs": [],
   "source": [
    "#MATERI INIT METHOD\n",
    "class laptop:\n",
    "    #class object attributes( attribbutes ini bersifat global untuk class laptop)\n",
    "    penjual = 'Pa Emerald'\n",
    "        \n",
    "    def __init__ (self, brand, price):\n",
    "        self.brand = brand\n",
    "        self.price = price\n",
    "        self.Processor = 'AMD Rodeon'\n",
    "        self.AMD_Rodeon = 12\n",
    "    \n",
    "    def konsumsi(self):\n",
    "        print('350 waat')\n",
    "    \n",
    "    def keterangan(self):\n",
    "        print('laptop brand {}, price laptop {}, dan nama penjual {}'.format(self.brand, self.price, self.penjual))"
   ]
  },
  {
   "cell_type": "code",
   "execution_count": 2,
   "metadata": {},
   "outputs": [],
   "source": [
    "barang1 = laptop('Lenovo', 4600)"
   ]
  },
  {
   "cell_type": "code",
   "execution_count": 3,
   "metadata": {},
   "outputs": [
    {
     "data": {
      "text/plain": [
       "12"
      ]
     },
     "execution_count": 3,
     "metadata": {},
     "output_type": "execute_result"
    }
   ],
   "source": [
    "barang1.AMD_Rodeon"
   ]
  },
  {
   "cell_type": "code",
   "execution_count": 4,
   "metadata": {},
   "outputs": [
    {
     "data": {
      "text/plain": [
       "'Pa Emerald'"
      ]
     },
     "execution_count": 4,
     "metadata": {},
     "output_type": "execute_result"
    }
   ],
   "source": [
    "barang1.penjual"
   ]
  },
  {
   "cell_type": "code",
   "execution_count": 5,
   "metadata": {},
   "outputs": [
    {
     "name": "stdout",
     "output_type": "stream",
     "text": [
      "350 waat\n"
     ]
    }
   ],
   "source": [
    "barang1.konsumsi()"
   ]
  },
  {
   "cell_type": "code",
   "execution_count": 6,
   "metadata": {},
   "outputs": [
    {
     "name": "stdout",
     "output_type": "stream",
     "text": [
      "laptop brand Lenovo, price laptop 4600, dan nama penjual Pa Emerald\n"
     ]
    }
   ],
   "source": [
    "barang1.keterangan()"
   ]
  },
  {
   "cell_type": "code",
   "execution_count": 7,
   "metadata": {},
   "outputs": [],
   "source": [
    "class laptop:\n",
    "    ReSell = 'Mr. Emerald'\n",
    "        \n",
    "    def __init__ (self, brand, price):\n",
    "        self.brand = brand\n",
    "        self.price = price\n",
    "        self.Processor = 'AMD Rodeon'\n",
    "        self.AMD_Rodeon = 12\n",
    "    \n",
    "    def konsumsi(self):\n",
    "        print('350 waat')\n",
    "    \n",
    "    def keterangan(self, Buy): # Di bawah kenapa ga ada kata self pada buy? karna self ini sudah ada pada keterangan\n",
    "        print('laptop brand {}, price laptop {}, dan ReSell Name {}, i can buy {}'.format(self.brand, self.price, self.ReSell, Buy))"
   ]
  },
  {
   "cell_type": "code",
   "execution_count": 8,
   "metadata": {},
   "outputs": [],
   "source": [
    "item = laptop('Lenovo_R', 560)"
   ]
  },
  {
   "cell_type": "code",
   "execution_count": 9,
   "metadata": {},
   "outputs": [
    {
     "data": {
      "text/plain": [
       "560"
      ]
     },
     "execution_count": 9,
     "metadata": {},
     "output_type": "execute_result"
    }
   ],
   "source": [
    "item.price"
   ]
  },
  {
   "cell_type": "code",
   "execution_count": 10,
   "metadata": {},
   "outputs": [
    {
     "name": "stdout",
     "output_type": "stream",
     "text": [
      "laptop brand Lenovo_R, price laptop 560, dan ReSell Name Mr. Emerald, i can buy 2\n"
     ]
    }
   ],
   "source": [
    "item.keterangan(2)"
   ]
  },
  {
   "cell_type": "code",
   "execution_count": 11,
   "metadata": {},
   "outputs": [],
   "source": [
    "class lingkaran:\n",
    "    \n",
    "    #Koefisien phi\n",
    "    phi = 3.14\n",
    "    \n",
    "    def __init__(self, radius):\n",
    "        self.radius = radius\n",
    "        #kita pun bisa memasukan luas ini pada method: self.luas = 2*self.phi*self.radius*sel.radius\n",
    "    \n",
    "    def keliling(self):\n",
    "        return 2*self.phi*self.radius\n",
    "    \n",
    "    def luas(self):\n",
    "        return 2*self.phi*self.radius*self.radius\n",
    "        "
   ]
  },
  {
   "cell_type": "code",
   "execution_count": 12,
   "metadata": {},
   "outputs": [],
   "source": [
    "Code = lingkaran(10)"
   ]
  },
  {
   "cell_type": "code",
   "execution_count": 13,
   "metadata": {},
   "outputs": [
    {
     "data": {
      "text/plain": [
       "62.800000000000004"
      ]
     },
     "execution_count": 13,
     "metadata": {},
     "output_type": "execute_result"
    }
   ],
   "source": [
    "Code.keliling()"
   ]
  },
  {
   "cell_type": "code",
   "execution_count": 14,
   "metadata": {},
   "outputs": [
    {
     "data": {
      "text/plain": [
       "628.0"
      ]
     },
     "execution_count": 14,
     "metadata": {},
     "output_type": "execute_result"
    }
   ],
   "source": [
    "Code.luas() #begitu pun luas nya jika luasnya di method maka tidak usah memakai tanda kurung lagi. tapi jika tidak di method maka harus memakai kurung"
   ]
  },
  {
   "cell_type": "markdown",
   "metadata": {},
   "source": [
    "#### MATERI INHERITANCE artinya warisan"
   ]
  },
  {
   "cell_type": "code",
   "execution_count": 15,
   "metadata": {},
   "outputs": [],
   "source": [
    "class Maba: #Kelas bapa\n",
    "    \n",
    "    status = 'Mahasiswa_Baru'\n",
    "    def __init__(self, nama, kelas):\n",
    "        self.nama = nama\n",
    "        self.kelas = kelas\n",
    "    \n",
    "    def keterangan(self):\n",
    "        print('{} dikelas {} adalah seorang maba {}'.format(self.nama, self.kelas, self.status))"
   ]
  },
  {
   "cell_type": "code",
   "execution_count": 16,
   "metadata": {},
   "outputs": [],
   "source": [
    "Untirta = Maba('adnin', 1)"
   ]
  },
  {
   "cell_type": "code",
   "execution_count": 17,
   "metadata": {},
   "outputs": [
    {
     "data": {
      "text/plain": [
       "'adnin'"
      ]
     },
     "execution_count": 17,
     "metadata": {},
     "output_type": "execute_result"
    }
   ],
   "source": [
    "Untirta.nama"
   ]
  },
  {
   "cell_type": "code",
   "execution_count": 18,
   "metadata": {},
   "outputs": [
    {
     "name": "stdout",
     "output_type": "stream",
     "text": [
      "adnin dikelas 1 adalah seorang maba Mahasiswa_Baru\n"
     ]
    }
   ],
   "source": [
    "Untirta.keterangan()"
   ]
  },
  {
   "cell_type": "code",
   "execution_count": 19,
   "metadata": {},
   "outputs": [],
   "source": [
    "#sekarang kita mulai mendefinisikan kelas turunan\n",
    "\n",
    "class Nilai(Maba):\n",
    "    \n",
    "    def __init__(self, nama, kelas): #ini harus sama pada kelas bapa nya karna ini turunan\n",
    "        super().__init__(nama, kelas) #super ini artinya Maba karna mewakili\n",
    "        self.nilai_update = [] # kita bisa memaka Maba__init__(nama, kelas). memaki super ini aagar mempersingkat program\n",
    "        \n",
    "    def input_nilai(self, tambah):\n",
    "        return self.nilai_update.append(tambah)"
   ]
  },
  {
   "cell_type": "code",
   "execution_count": 20,
   "metadata": {},
   "outputs": [],
   "source": [
    "Untirta = Nilai('restu', 1)"
   ]
  },
  {
   "cell_type": "code",
   "execution_count": 21,
   "metadata": {},
   "outputs": [
    {
     "data": {
      "text/plain": [
       "'restu'"
      ]
     },
     "execution_count": 21,
     "metadata": {},
     "output_type": "execute_result"
    }
   ],
   "source": [
    "Untirta.nama"
   ]
  },
  {
   "cell_type": "code",
   "execution_count": 22,
   "metadata": {},
   "outputs": [
    {
     "name": "stdout",
     "output_type": "stream",
     "text": [
      "restu dikelas 1 adalah seorang maba Mahasiswa_Baru\n"
     ]
    }
   ],
   "source": [
    "Untirta.keterangan()"
   ]
  },
  {
   "cell_type": "code",
   "execution_count": 23,
   "metadata": {},
   "outputs": [],
   "source": [
    "Untirta.input_nilai(87)"
   ]
  },
  {
   "cell_type": "code",
   "execution_count": 24,
   "metadata": {},
   "outputs": [
    {
     "data": {
      "text/plain": [
       "[87]"
      ]
     },
     "execution_count": 24,
     "metadata": {},
     "output_type": "execute_result"
    }
   ],
   "source": [
    "Untirta.nilai_update"
   ]
  },
  {
   "cell_type": "code",
   "execution_count": null,
   "metadata": {},
   "outputs": [],
   "source": []
  }
 ],
 "metadata": {
  "kernelspec": {
   "display_name": "Python 3",
   "language": "python",
   "name": "python3"
  },
  "language_info": {
   "codemirror_mode": {
    "name": "ipython",
    "version": 3
   },
   "file_extension": ".py",
   "mimetype": "text/x-python",
   "name": "python",
   "nbconvert_exporter": "python",
   "pygments_lexer": "ipython3",
   "version": "3.7.6"
  }
 },
 "nbformat": 4,
 "nbformat_minor": 4
}
