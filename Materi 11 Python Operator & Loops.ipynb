{
 "cells": [
  {
   "cell_type": "markdown",
   "metadata": {},
   "source": [
    "#### Range digunakan untuk literasi default"
   ]
  },
  {
   "cell_type": "code",
   "execution_count": 1,
   "metadata": {},
   "outputs": [
    {
     "name": "stdout",
     "output_type": "stream",
     "text": [
      "0\n",
      "1\n",
      "2\n",
      "3\n",
      "4\n",
      "5\n",
      "6\n",
      "7\n",
      "8\n",
      "9\n"
     ]
    }
   ],
   "source": [
    "for item in range(0,10):\n",
    "    print(item)"
   ]
  },
  {
   "cell_type": "code",
   "execution_count": 2,
   "metadata": {},
   "outputs": [],
   "source": [
    "angka = [1,2,3,4,5,6,7,8,9,10]"
   ]
  },
  {
   "cell_type": "code",
   "execution_count": 3,
   "metadata": {},
   "outputs": [
    {
     "data": {
      "text/plain": [
       "[1, 2, 3, 4, 5, 6, 7, 8, 9, 10]"
      ]
     },
     "execution_count": 3,
     "metadata": {},
     "output_type": "execute_result"
    }
   ],
   "source": [
    "angka"
   ]
  },
  {
   "cell_type": "code",
   "execution_count": 4,
   "metadata": {},
   "outputs": [],
   "source": [
    "angka1 = list(range(2,9))"
   ]
  },
  {
   "cell_type": "code",
   "execution_count": 5,
   "metadata": {},
   "outputs": [
    {
     "data": {
      "text/plain": [
       "[2, 3, 4, 5, 6, 7, 8]"
      ]
     },
     "execution_count": 5,
     "metadata": {},
     "output_type": "execute_result"
    }
   ],
   "source": [
    "angka1"
   ]
  },
  {
   "cell_type": "code",
   "execution_count": 6,
   "metadata": {},
   "outputs": [],
   "source": [
    "#Enumerate digunakan menujukan indeks pada sebuah item"
   ]
  },
  {
   "cell_type": "code",
   "execution_count": 7,
   "metadata": {},
   "outputs": [
    {
     "name": "stdout",
     "output_type": "stream",
     "text": [
      "karakter m berada di indeks ke- 0\n",
      "karakter a berada di indeks ke- 1\n",
      "karakter s berada di indeks ke- 2\n",
      "karakter t berada di indeks ke- 3\n",
      "karakter e berada di indeks ke- 4\n",
      "karakter r berada di indeks ke- 5\n",
      "karakter   berada di indeks ke- 6\n",
      "karakter c berada di indeks ke- 7\n",
      "karakter l berada di indeks ke- 8\n",
      "karakter a berada di indeks ke- 9\n",
      "karakter s berada di indeks ke- 10\n",
      "karakter s berada di indeks ke- 11\n"
     ]
    }
   ],
   "source": [
    "indeks = 0\n",
    "for item in 'master class':\n",
    "    print('karakter {} berada di indeks ke- {}'.format(item,indeks))\n",
    "    indeks += 1"
   ]
  },
  {
   "cell_type": "markdown",
   "metadata": {},
   "source": [
    "#### Ini cara meng ifisienkan "
   ]
  },
  {
   "cell_type": "code",
   "execution_count": 8,
   "metadata": {},
   "outputs": [
    {
     "name": "stdout",
     "output_type": "stream",
     "text": [
      "(0, 'm')\n",
      "(1, 'a')\n",
      "(2, 's')\n",
      "(3, 't')\n",
      "(4, 'e')\n",
      "(5, 'r')\n",
      "(6, ' ')\n",
      "(7, 'c')\n",
      "(8, 'h')\n",
      "(9, 'e')\n",
      "(10, 'f')\n"
     ]
    }
   ],
   "source": [
    "kata = 'master chef'\n",
    "for items in enumerate(kata):\n",
    "    print(items)"
   ]
  },
  {
   "cell_type": "code",
   "execution_count": 9,
   "metadata": {},
   "outputs": [
    {
     "name": "stdout",
     "output_type": "stream",
     "text": [
      "0\n",
      "m\n",
      "1\n",
      "a\n",
      "2\n",
      "s\n",
      "3\n",
      "t\n",
      "4\n",
      "e\n",
      "5\n",
      "r\n",
      "6\n",
      " \n",
      "7\n",
      "c\n",
      "8\n",
      "h\n",
      "9\n",
      "e\n",
      "10\n",
      "f\n"
     ]
    }
   ],
   "source": [
    "for a,b in enumerate(kata):\n",
    "    print(a)\n",
    "    print(b)"
   ]
  },
  {
   "cell_type": "markdown",
   "metadata": {},
   "source": [
    "#### ZIP menggabungkan satu dengan yang lain list"
   ]
  },
  {
   "cell_type": "code",
   "execution_count": 10,
   "metadata": {},
   "outputs": [],
   "source": [
    "baris = [1,2,3,4,5]\n",
    "baris2 = ['a','b','c','d','e'] #kalo ada tambahan list. tinggal di fornya, ditambahkan\n",
    "baris3 = [100, 150, 200, 300, 400]"
   ]
  },
  {
   "cell_type": "code",
   "execution_count": 11,
   "metadata": {},
   "outputs": [
    {
     "name": "stdout",
     "output_type": "stream",
     "text": [
      "(1, 'a', 100)\n",
      "(2, 'b', 150)\n",
      "(3, 'c', 200)\n",
      "(4, 'd', 300)\n",
      "(5, 'e', 400)\n"
     ]
    }
   ],
   "source": [
    "for item in zip(baris,baris2,baris3):\n",
    "    print(item)"
   ]
  },
  {
   "cell_type": "code",
   "execution_count": 12,
   "metadata": {},
   "outputs": [
    {
     "data": {
      "text/plain": [
       "[(1, 100), (2, 150), (3, 200), (4, 300), (5, 400)]"
      ]
     },
     "execution_count": 12,
     "metadata": {},
     "output_type": "execute_result"
    }
   ],
   "source": [
    "#cara memnuat list pada zip\n",
    "list(zip(baris,baris3))\n",
    "#keluarnya datanya tupple datanya tidak bisa di ganti,kalo mau di ganti harus ada merombak"
   ]
  },
  {
   "cell_type": "markdown",
   "metadata": {},
   "source": [
    "#### Bagaimana mengambil sebuah nilai boolean ketika mengecek pada sebuah item #ITEM CHECKING"
   ]
  },
  {
   "cell_type": "code",
   "execution_count": 13,
   "metadata": {},
   "outputs": [
    {
     "data": {
      "text/plain": [
       "'aku sedang belajar python'"
      ]
     },
     "execution_count": 13,
     "metadata": {},
     "output_type": "execute_result"
    }
   ],
   "source": [
    "'aku sedang belajar python'"
   ]
  },
  {
   "cell_type": "markdown",
   "metadata": {},
   "source": [
    "#### ITEM CHECKING bisa di gunakan di berbagai data, semisalnya dictonary."
   ]
  },
  {
   "cell_type": "code",
   "execution_count": 14,
   "metadata": {},
   "outputs": [],
   "source": [
    "box = {'a':500, 'b':660, 'c':720}"
   ]
  },
  {
   "cell_type": "code",
   "execution_count": 15,
   "metadata": {},
   "outputs": [
    {
     "data": {
      "text/plain": [
       "True"
      ]
     },
     "execution_count": 15,
     "metadata": {},
     "output_type": "execute_result"
    }
   ],
   "source": [
    "'a'in box"
   ]
  },
  {
   "cell_type": "code",
   "execution_count": 16,
   "metadata": {},
   "outputs": [
    {
     "data": {
      "text/plain": [
       "False"
      ]
     },
     "execution_count": 16,
     "metadata": {},
     "output_type": "execute_result"
    }
   ],
   "source": [
    "660 in box #ini akan ada false, karna ia akan mengecek bahwa Q nya adalah 660, padahal Q nya abc"
   ]
  },
  {
   "cell_type": "code",
   "execution_count": 17,
   "metadata": {},
   "outputs": [
    {
     "data": {
      "text/plain": [
       "True"
      ]
     },
     "execution_count": 17,
     "metadata": {},
     "output_type": "execute_result"
    }
   ],
   "source": [
    "#kalo mengecek true dengan.value\n",
    "660 in box.values() #kalo masukin nilai nya tidak berbeda maka nilai nya akan false"
   ]
  },
  {
   "cell_type": "markdown",
   "metadata": {},
   "source": [
    "#### Advanced for loops"
   ]
  },
  {
   "cell_type": "code",
   "execution_count": 18,
   "metadata": {},
   "outputs": [
    {
     "data": {
      "text/plain": [
       "[1, 2, 3, 4, 5, 6, 7, 8, 9, 10, 11]"
      ]
     },
     "execution_count": 18,
     "metadata": {},
     "output_type": "execute_result"
    }
   ],
   "source": [
    "BOX = list(range(1,12))\n",
    "BOX"
   ]
  },
  {
   "cell_type": "code",
   "execution_count": 19,
   "metadata": {},
   "outputs": [
    {
     "data": {
      "text/plain": [
       "[1, 2, 3, 4, 5, 6, 7, 8, 9, 10, 11, 12]"
      ]
     },
     "execution_count": 19,
     "metadata": {},
     "output_type": "execute_result"
    }
   ],
   "source": [
    "isi = list()\n",
    "for item in range(1,13):\n",
    "    isi.append(item)\n",
    "isi"
   ]
  },
  {
   "cell_type": "code",
   "execution_count": 20,
   "metadata": {},
   "outputs": [
    {
     "data": {
      "text/plain": [
       "[1, 2, 3, 4, 5, 6, 7, 8, 9, 10, 11, 12]"
      ]
     },
     "execution_count": 20,
     "metadata": {},
     "output_type": "execute_result"
    }
   ],
   "source": [
    "isi2 = [item for item in range(1,13)] #kita bisa ganti nama item dengan sesuka hati. kalo nama item maka nama selanjutnya harus item\n",
    "isi2 #ini cara lebih mudah"
   ]
  },
  {
   "cell_type": "code",
   "execution_count": 21,
   "metadata": {},
   "outputs": [
    {
     "data": {
      "text/plain": [
       "[1, 4, 9, 16, 25, 36, 49, 64, 81, 100, 121]"
      ]
     },
     "execution_count": 21,
     "metadata": {},
     "output_type": "execute_result"
    }
   ],
   "source": [
    "isi3 = [error**2 for error in range(1,12)]\n",
    "isi3"
   ]
  },
  {
   "cell_type": "code",
   "execution_count": 22,
   "metadata": {},
   "outputs": [
    {
     "data": {
      "text/plain": [
       "[0.25, 1.0, 2.25, 4.0, 6.25, 9.0, 12.25, 16.0, 20.25, 25.0, 30.25]"
      ]
     },
     "execution_count": 22,
     "metadata": {},
     "output_type": "execute_result"
    }
   ],
   "source": [
    "isi4 = [(error**2/4) for error in range(1,12)]\n",
    "isi4"
   ]
  },
  {
   "cell_type": "code",
   "execution_count": 23,
   "metadata": {},
   "outputs": [
    {
     "data": {
      "text/plain": [
       "[2, 4, 6, 8, 10, 12]"
      ]
     },
     "execution_count": 23,
     "metadata": {},
     "output_type": "execute_result"
    }
   ],
   "source": [
    "isi5 = [error for error in range(1,13) if error%2==0]\n",
    "isi5"
   ]
  },
  {
   "cell_type": "code",
   "execution_count": 24,
   "metadata": {},
   "outputs": [
    {
     "data": {
      "text/plain": [
       "['angka bilangan ganjil',\n",
       " 2,\n",
       " 'angka bilangan ganjil',\n",
       " 4,\n",
       " 'angka bilangan ganjil',\n",
       " 6,\n",
       " 'angka bilangan ganjil',\n",
       " 8,\n",
       " 'angka bilangan ganjil',\n",
       " 10,\n",
       " 'angka bilangan ganjil',\n",
       " 12]"
      ]
     },
     "execution_count": 24,
     "metadata": {},
     "output_type": "execute_result"
    }
   ],
   "source": [
    "isi6 = [items if items%2==0 else 'angka bilangan ganjil' for items in range(1,13)]\n",
    "isi6 #ini yang tersulit, dan ini mudah dipahami"
   ]
  },
  {
   "cell_type": "code",
   "execution_count": 25,
   "metadata": {},
   "outputs": [
    {
     "data": {
      "text/plain": [
       "['angka isi bilangan ganjil',\n",
       " 2,\n",
       " 'angka isi bilangan ganjil',\n",
       " 4,\n",
       " 'angka isi bilangan ganjil',\n",
       " 6,\n",
       " 'angka isi bilangan ganjil',\n",
       " 8,\n",
       " 'angka isi bilangan ganjil',\n",
       " 10,\n",
       " 'angka isi bilangan ganjil']"
      ]
     },
     "execution_count": 25,
     "metadata": {},
     "output_type": "execute_result"
    }
   ],
   "source": [
    "isi7 = []\n",
    "for items in range(1,12):\n",
    "    if items%2==0:\n",
    "        isi7.append(items)\n",
    "    else:\n",
    "        isi7.append('angka isi bilangan ganjil')\n",
    "isi7 #ini membuang2 memori pada pc"
   ]
  },
  {
   "cell_type": "code",
   "execution_count": null,
   "metadata": {},
   "outputs": [],
   "source": []
  }
 ],
 "metadata": {
  "kernelspec": {
   "display_name": "Python 3",
   "language": "python",
   "name": "python3"
  },
  "language_info": {
   "codemirror_mode": {
    "name": "ipython",
    "version": 3
   },
   "file_extension": ".py",
   "mimetype": "text/x-python",
   "name": "python",
   "nbconvert_exporter": "python",
   "pygments_lexer": "ipython3",
   "version": "3.7.6"
  }
 },
 "nbformat": 4,
 "nbformat_minor": 4
}
