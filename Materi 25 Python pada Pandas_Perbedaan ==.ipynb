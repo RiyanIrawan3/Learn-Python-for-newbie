{
 "cells": [
  {
   "cell_type": "markdown",
   "metadata": {},
   "source": [
    "# Apa itu =="
   ]
  },
  {
   "cell_type": "code",
   "execution_count": 1,
   "metadata": {},
   "outputs": [
    {
     "name": "stdout",
     "output_type": "stream",
     "text": [
      "1.  True\n",
      "2.  False\n",
      "3.  False\n",
      "4.  True\n",
      "5.  True\n",
      "6.  True\n"
     ]
    }
   ],
   "source": [
    "print('1. ',True == 1)\n",
    "print('2. ','' == 0)\n",
    "print('3. ',[] == False)\n",
    "print('4. ', 23 == 23.0)\n",
    "print('5. ', [] == [])\n",
    "print('6. ', () == ())"
   ]
  },
  {
   "cell_type": "code",
   "execution_count": 2,
   "metadata": {},
   "outputs": [],
   "source": [
    "# true = 1\n",
    "# False = 0\n",
    "# int = float"
   ]
  },
  {
   "cell_type": "code",
   "execution_count": 3,
   "metadata": {},
   "outputs": [
    {
     "data": {
      "text/plain": [
       "str"
      ]
     },
     "execution_count": 3,
     "metadata": {},
     "output_type": "execute_result"
    }
   ],
   "source": [
    "type('')"
   ]
  },
  {
   "cell_type": "code",
   "execution_count": 4,
   "metadata": {},
   "outputs": [
    {
     "data": {
      "text/plain": [
       "int"
      ]
     },
     "execution_count": 4,
     "metadata": {},
     "output_type": "execute_result"
    }
   ],
   "source": [
    "type(0)"
   ]
  },
  {
   "cell_type": "code",
   "execution_count": 5,
   "metadata": {},
   "outputs": [
    {
     "data": {
      "text/plain": [
       "int"
      ]
     },
     "execution_count": 5,
     "metadata": {},
     "output_type": "execute_result"
    }
   ],
   "source": [
    "type(23)"
   ]
  },
  {
   "cell_type": "code",
   "execution_count": 6,
   "metadata": {},
   "outputs": [
    {
     "data": {
      "text/plain": [
       "list"
      ]
     },
     "execution_count": 6,
     "metadata": {},
     "output_type": "execute_result"
    }
   ],
   "source": [
    "type([])"
   ]
  },
  {
   "cell_type": "code",
   "execution_count": 7,
   "metadata": {},
   "outputs": [
    {
     "data": {
      "text/plain": [
       "tuple"
      ]
     },
     "execution_count": 7,
     "metadata": {},
     "output_type": "execute_result"
    }
   ],
   "source": [
    "type(())"
   ]
  },
  {
   "cell_type": "code",
   "execution_count": 8,
   "metadata": {},
   "outputs": [
    {
     "name": "stdout",
     "output_type": "stream",
     "text": [
      "1.  False\n",
      "2.  False\n",
      "3.  False\n",
      "4.  False\n",
      "5.  False\n",
      "6.  True\n"
     ]
    }
   ],
   "source": [
    "print('1. ',True is 1)\n",
    "print('2. ','' is 0)\n",
    "print('3. ',[] is False)\n",
    "print('4. ', 23 is 23.0)\n",
    "print('5. ', [] is []) # sequence mutabel (list, dictonary, set) (bisa dirubah) --> berbeda akan false\n",
    "print('6. ', () is ()) #sequence imutable (tuple) (tidak bisa dirubah) --> sama akan true"
   ]
  },
  {
   "cell_type": "markdown",
   "metadata": {},
   "source": [
    "# == membandingkan nilai\n",
    "# is membandingkan posisi memory"
   ]
  },
  {
   "cell_type": "markdown",
   "metadata": {},
   "source": [
    "##### is harus mengecek nilai nya"
   ]
  },
  {
   "cell_type": "markdown",
   "metadata": {},
   "source": [
    "#### KAPAN KITA HARUS MENGGUNAKAN == DAN IS?\n",
    "#### TERGENTUNG TUJUAN, KALO PERBANDINGAN IF ELSE MAKA ==\n",
    "#### JIKA MEMBANDINGKAN OBJEK SEBELAH KIRI DAN KANAN DAN IDENTIKNYA DAN POSISI MEMORY MAKA PAKAI IS"
   ]
  },
  {
   "cell_type": "code",
   "execution_count": null,
   "metadata": {},
   "outputs": [],
   "source": []
  }
 ],
 "metadata": {
  "kernelspec": {
   "display_name": "Python 3",
   "language": "python",
   "name": "python3"
  },
  "language_info": {
   "codemirror_mode": {
    "name": "ipython",
    "version": 3
   },
   "file_extension": ".py",
   "mimetype": "text/x-python",
   "name": "python",
   "nbconvert_exporter": "python",
   "pygments_lexer": "ipython3",
   "version": "3.7.6"
  }
 },
 "nbformat": 4,
 "nbformat_minor": 4
}
